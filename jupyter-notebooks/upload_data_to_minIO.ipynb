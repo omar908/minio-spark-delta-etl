{
 "cells": [
  {
   "cell_type": "markdown",
   "id": "04f79b48-51e6-44ee-ae15-c144cbff36e2",
   "metadata": {},
   "source": [
    "# Create Dummy Data for the process"
   ]
  },
  {
   "cell_type": "markdown",
   "id": "f7fb7322-469b-4922-a890-0a4afed3442d",
   "metadata": {},
   "source": [
    "## Adds additional directories for importing custom modules"
   ]
  },
  {
   "cell_type": "code",
   "execution_count": null,
   "id": "e3474029-a76a-47dc-9a5e-0aae897ed13b",
   "metadata": {},
   "outputs": [],
   "source": [
    "import sys\n",
    "sys.path.append('../generate_dummy_data')"
   ]
  },
  {
   "cell_type": "markdown",
   "id": "262a828d-7bd7-45ef-af83-f196a1d2e364",
   "metadata": {},
   "source": [
    "## Import modules"
   ]
  },
  {
   "cell_type": "code",
   "execution_count": null,
   "id": "954196c3-02b2-46e2-823d-b2e862bce9ff",
   "metadata": {
    "editable": true,
    "slideshow": {
     "slide_type": ""
    },
    "tags": []
   },
   "outputs": [],
   "source": [
    "from data_generator import generate_dummy_data, write_csv, write_json_batches"
   ]
  },
  {
   "cell_type": "markdown",
   "id": "49b0abf0-caa5-4390-adfd-3bb187bb10c8",
   "metadata": {},
   "source": [
    "## Generate dummy data and write to a CSV file"
   ]
  },
  {
   "cell_type": "code",
   "execution_count": null,
   "id": "d0ae744c-214c-43e9-84f9-8389f835a1e5",
   "metadata": {},
   "outputs": [],
   "source": [
    "data = generate_dummy_data(100)\n",
    "write_csv(data, \"../data/dummy_data.csv\")"
   ]
  },
  {
   "cell_type": "markdown",
   "id": "fc9b9365-bd7a-4246-86cb-e7eb3c6fc5a1",
   "metadata": {},
   "source": [
    "## Generate dummy data and multiple JSON files"
   ]
  },
  {
   "cell_type": "code",
   "execution_count": null,
   "id": "966d59e2-fdea-4572-aa1a-c9b86476d956",
   "metadata": {},
   "outputs": [],
   "source": [
    "write_json_batches(total_records=100, batch_size=10, output_folder=\"../data/json_batches\")"
   ]
  },
  {
   "cell_type": "markdown",
   "id": "0c0cfc9b-5765-4a71-8a44-26e3d88be1f4",
   "metadata": {},
   "source": [
    "# Uploading files to MinIO"
   ]
  },
  {
   "cell_type": "markdown",
   "id": "8f3bc482-6b97-4b77-b74b-29e1f31a9081",
   "metadata": {},
   "source": [
    "## Adds additional directories for importing custom modules"
   ]
  },
  {
   "cell_type": "code",
   "execution_count": null,
   "id": "0004258d-8685-485e-91e7-4dc0013b756b",
   "metadata": {},
   "outputs": [],
   "source": [
    "import sys\n",
    "sys.path.append('../file_uploader')"
   ]
  },
  {
   "cell_type": "markdown",
   "id": "7976eead-b1f3-4c63-976d-8426e5c48309",
   "metadata": {},
   "source": [
    "## Import modules for MinIO Upload"
   ]
  },
  {
   "cell_type": "code",
   "execution_count": null,
   "id": "787e68ae-c2b8-4825-a3a7-88189f93f707",
   "metadata": {},
   "outputs": [],
   "source": [
    "from minio import Minio\n",
    "from minio.error import S3Error\n",
    "import os\n",
    "import time\n",
    "from minio_util import get_minio_client, upload_batch_file, upload_json_files"
   ]
  },
  {
   "cell_type": "markdown",
   "id": "f4bbe7ce-2114-48f9-b29a-d2a92e17ca2b",
   "metadata": {},
   "source": [
    "## Initialize the MinIO client."
   ]
  },
  {
   "cell_type": "code",
   "execution_count": null,
   "id": "19324815-458e-47d4-a0ec-1c1d71f7aba6",
   "metadata": {},
   "outputs": [],
   "source": [
    "client = get_minio_client(endpoint=\"minio:9000\")"
   ]
  },
  {
   "cell_type": "markdown",
   "id": "6e48e7d1-b051-463d-8367-b7aed67011f1",
   "metadata": {},
   "source": [
    "## Upload a single CSV file."
   ]
  },
  {
   "cell_type": "code",
   "execution_count": null,
   "id": "6b8904b5-2819-4e7f-87cd-a62054ba5a48",
   "metadata": {},
   "outputs": [],
   "source": [
    "csv_source_file = \"../data/dummy_data.csv\"\n",
    "upload_batch_file(client, csv_source_file, \"python-batch-bucket\")"
   ]
  },
  {
   "cell_type": "markdown",
   "id": "ea778831-8107-4a1b-9ecb-f57777232cf3",
   "metadata": {},
   "source": [
    "## Upload all JSON batch files from a directory."
   ]
  },
  {
   "cell_type": "code",
   "execution_count": null,
   "id": "40f2ee4c-78b3-4329-bd4b-03b7e3d67550",
   "metadata": {},
   "outputs": [],
   "source": [
    "json_directory = \"../data/json_batches\"\n",
    "upload_json_files(client, json_directory, \"python-process-bucket\")"
   ]
  },
  {
   "cell_type": "markdown",
   "id": "ac1b47a8-2cc9-4d40-91de-eb655ab6f14f",
   "metadata": {},
   "source": [
    "# Process files with Spark into Delta Lake"
   ]
  },
  {
   "cell_type": "markdown",
   "id": "5aa74c91-87a9-4afd-a3c5-4cba64ff1578",
   "metadata": {},
   "source": [
    "## Import Modules for Delta Lake and PySpark"
   ]
  },
  {
   "cell_type": "code",
   "execution_count": null,
   "id": "9a944e9c-e479-4bcf-a328-d21abfc53ea2",
   "metadata": {},
   "outputs": [],
   "source": [
    "from pyspark.sql import SparkSession\n",
    "from delta import *"
   ]
  },
  {
   "cell_type": "markdown",
   "id": "6daad7de-0e59-46cf-bf86-fe5ec2a8e17f",
   "metadata": {},
   "source": [
    "## Set up SparkSession with Delta and MinIO"
   ]
  },
  {
   "cell_type": "code",
   "execution_count": null,
   "id": "f56cea44-0d88-469e-9e1d-8e98fcfdbfe4",
   "metadata": {},
   "outputs": [],
   "source": [
    "spark = SparkSession.builder \\\n",
    "    .appName(\"DeltaLakeOnMinIO\") \\\n",
    "    .config(\"spark.jars.packages\", \"io.delta:delta-spark_2.12:3.3.0\") \\\n",
    "    .config(\"spark.sql.extensions\", \"io.delta.sql.DeltaSparkSessionExtension\") \\\n",
    "    .config(\"spark.sql.catalog.spark_catalog\", \"org.apache.spark.sql.delta.catalog.DeltaCatalog\") \\\n",
    "    .getOrCreate()\n",
    "hadoop_conf = spark._jsc.hadoopConfiguration()\n",
    "hadoop_conf.set(\"fs.s3a.endpoint\", \"http://minio:9000\")  # use the Docker service name or IP\n",
    "hadoop_conf.set(\"fs.s3a.access.key\", \"ROOTNAME\")\n",
    "hadoop_conf.set(\"fs.s3a.secret.key\", \"CHANGEME123\")\n",
    "hadoop_conf.set(\"fs.s3a.path.style.access\", \"true\")  # Required for MinIO\n"
   ]
  },
  {
   "cell_type": "markdown",
   "id": "e0234fb0-3925-4798-bd63-673c9438d4df",
   "metadata": {},
   "source": [
    "## Read CSV batch file from MinIO"
   ]
  },
  {
   "cell_type": "code",
   "execution_count": null,
   "id": "f75723c7-5497-4cd2-9e0e-b91ffd6cea41",
   "metadata": {},
   "outputs": [],
   "source": [
    "df = spark.read\\\n",
    "    .option(\"header\", \"true\")\\\n",
    "    .option(\"delimiter\", \",\")\\\n",
    "    .option(\"ignoreLeadingWhiteSpace\", \"true\")\\\n",
    "    .option(\"ignoreTrailingWhiteSpace\", \"true\")\\\n",
    "    .option(\"inferSchema\", \"true\")\\\n",
    "    .csv(\"s3a://python-batch-bucket/1741243817566_dummy_data.csv\")"
   ]
  },
  {
   "cell_type": "code",
   "execution_count": null,
   "id": "2331f7b4-60c8-44d8-8203-231147fc46f2",
   "metadata": {},
   "outputs": [],
   "source": [
    "### Show data (Optional)"
   ]
  },
  {
   "cell_type": "code",
   "execution_count": null,
   "id": "82f8be00-6553-4376-9e05-e7171444df91",
   "metadata": {},
   "outputs": [],
   "source": [
    "df.show(1, truncate=False)"
   ]
  },
  {
   "cell_type": "code",
   "execution_count": null,
   "id": "100236e2-a994-4683-b48b-9bce98747c91",
   "metadata": {},
   "outputs": [],
   "source": [
    "df.printSchema()"
   ]
  },
  {
   "cell_type": "markdown",
   "id": "b8b7ae9a-8fc1-4bc1-9a72-7e43ae9fd133",
   "metadata": {},
   "source": [
    "## Clean Data"
   ]
  },
  {
   "cell_type": "code",
   "execution_count": null,
   "id": "2c046809-f7dd-4c73-8756-ca137b28e46e",
   "metadata": {},
   "outputs": [],
   "source": [
    "df_transformed = df.filter(df[\"salary\"] > 10000)"
   ]
  },
  {
   "cell_type": "markdown",
   "id": "cdf14fe1-fa45-4ed9-a60e-e365fb5a9bff",
   "metadata": {},
   "source": [
    "### Skip cleaning (Optional)"
   ]
  },
  {
   "cell_type": "code",
   "execution_count": null,
   "id": "7952306a-f0b6-4787-bab1-b423861ef270",
   "metadata": {},
   "outputs": [],
   "source": [
    "df_transformed = df"
   ]
  },
  {
   "cell_type": "markdown",
   "id": "9fe5bf94-7a34-4b80-a1dc-5ce128eb0013",
   "metadata": {},
   "source": [
    "## Save as Delta Table"
   ]
  },
  {
   "cell_type": "code",
   "execution_count": null,
   "id": "19081053-0bc4-4810-b39f-dd839052ce6c",
   "metadata": {},
   "outputs": [],
   "source": [
    "df_transformed.write.format(\"delta\").mode(\"overwrite\").save(\"s3a://python-batch-bucket/delta_output\")"
   ]
  },
  {
   "cell_type": "markdown",
   "id": "f9e212f3-f540-4557-ab40-5b48aec264a3",
   "metadata": {},
   "source": [
    "## Create Delta Table"
   ]
  },
  {
   "cell_type": "code",
   "execution_count": null,
   "id": "6d8d455a-aed3-4dc4-93a1-ff2c2f97878c",
   "metadata": {},
   "outputs": [],
   "source": [
    "spark.sql(\"\"\"\n",
    "    CREATE TABLE IF NOT EXISTS csv_batch_table\n",
    "    USING DELTA\n",
    "    LOCATION 's3a://python-batch-bucket/delta_output'\n",
    "\"\"\")"
   ]
  },
  {
   "cell_type": "markdown",
   "id": "14f7af6a-3a26-48d9-860a-f7e01f942822",
   "metadata": {},
   "source": [
    "## Read from csv_batch_table"
   ]
  },
  {
   "cell_type": "code",
   "execution_count": null,
   "id": "f873d382-8811-4a48-8622-e52f41e61c11",
   "metadata": {},
   "outputs": [],
   "source": [
    "spark.sql(\"SELECT * FROM csv_batch_table\").show()"
   ]
  },
  {
   "cell_type": "markdown",
   "id": "ce892a46-8602-4bef-99b7-98e5bef6c9b9",
   "metadata": {},
   "source": [
    "## Directly read"
   ]
  },
  {
   "cell_type": "code",
   "execution_count": null,
   "id": "b5ccb246-f926-4bdf-9ef7-7f81712a5f0a",
   "metadata": {},
   "outputs": [],
   "source": [
    "df_check = spark.read.format(\"delta\").load(\"s3a://python-batch-bucket/delta_output\")\n",
    "df_check.show()"
   ]
  },
  {
   "cell_type": "code",
   "execution_count": null,
   "id": "93e6c97a-f1c1-4973-a5b6-0365bb4c9f76",
   "metadata": {},
   "outputs": [],
   "source": []
  }
 ],
 "metadata": {
  "kernelspec": {
   "display_name": "Python 3 (ipykernel)",
   "language": "python",
   "name": "python3"
  },
  "language_info": {
   "codemirror_mode": {
    "name": "ipython",
    "version": 3
   },
   "file_extension": ".py",
   "mimetype": "text/x-python",
   "name": "python",
   "nbconvert_exporter": "python",
   "pygments_lexer": "ipython3",
   "version": "3.11.10"
  }
 },
 "nbformat": 4,
 "nbformat_minor": 5
}

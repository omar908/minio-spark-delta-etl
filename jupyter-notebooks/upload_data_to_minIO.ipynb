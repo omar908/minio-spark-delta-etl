{
 "cells": [
  {
   "cell_type": "markdown",
   "id": "04f79b48-51e6-44ee-ae15-c144cbff36e2",
   "metadata": {},
   "source": [
    "# Create Dummy Data for the process"
   ]
  },
  {
   "cell_type": "markdown",
   "id": "f7fb7322-469b-4922-a890-0a4afed3442d",
   "metadata": {},
   "source": [
    "## Adds additional directories for importing custom modules"
   ]
  },
  {
   "cell_type": "code",
   "execution_count": null,
   "id": "e3474029-a76a-47dc-9a5e-0aae897ed13b",
   "metadata": {},
   "outputs": [],
   "source": [
    "import sys\n",
    "sys.path.append('../generate_dummy_data')"
   ]
  },
  {
   "cell_type": "markdown",
   "id": "262a828d-7bd7-45ef-af83-f196a1d2e364",
   "metadata": {},
   "source": [
    "## Import modules"
   ]
  },
  {
   "cell_type": "code",
   "execution_count": null,
   "id": "954196c3-02b2-46e2-823d-b2e862bce9ff",
   "metadata": {
    "editable": true,
    "slideshow": {
     "slide_type": ""
    },
    "tags": []
   },
   "outputs": [],
   "source": [
    "from data_generator import generate_dummy_data, write_csv, write_json_batches"
   ]
  },
  {
   "cell_type": "markdown",
   "id": "49b0abf0-caa5-4390-adfd-3bb187bb10c8",
   "metadata": {},
   "source": [
    "## Generate dummy data and write to a CSV file"
   ]
  },
  {
   "cell_type": "code",
   "execution_count": null,
   "id": "d0ae744c-214c-43e9-84f9-8389f835a1e5",
   "metadata": {},
   "outputs": [],
   "source": [
    "data = generate_dummy_data(100)\n",
    "write_csv(data, \"../data/dummy_data.csv\")"
   ]
  },
  {
   "cell_type": "markdown",
   "id": "fc9b9365-bd7a-4246-86cb-e7eb3c6fc5a1",
   "metadata": {},
   "source": [
    "## Generate dummy data and multiple JSON files"
   ]
  },
  {
   "cell_type": "code",
   "execution_count": null,
   "id": "966d59e2-fdea-4572-aa1a-c9b86476d956",
   "metadata": {},
   "outputs": [],
   "source": [
    "write_json_batches(total_records=100, batch_size=10, output_folder=\"../data/json_batches\")"
   ]
  },
  {
   "cell_type": "markdown",
   "id": "0c0cfc9b-5765-4a71-8a44-26e3d88be1f4",
   "metadata": {},
   "source": [
    "# Uploading files to MinIO"
   ]
  },
  {
   "cell_type": "markdown",
   "id": "8f3bc482-6b97-4b77-b74b-29e1f31a9081",
   "metadata": {},
   "source": [
    "## Adds additional directories for importing custom modules"
   ]
  },
  {
   "cell_type": "code",
   "execution_count": null,
   "id": "0004258d-8685-485e-91e7-4dc0013b756b",
   "metadata": {},
   "outputs": [],
   "source": [
    "import sys\n",
    "sys.path.append('../file_uploader')"
   ]
  },
  {
   "cell_type": "markdown",
   "id": "7976eead-b1f3-4c63-976d-8426e5c48309",
   "metadata": {},
   "source": [
    "## Import modules for MinIO Upload"
   ]
  },
  {
   "cell_type": "code",
   "execution_count": null,
   "id": "787e68ae-c2b8-4825-a3a7-88189f93f707",
   "metadata": {},
   "outputs": [],
   "source": [
    "from minio import Minio\n",
    "from minio.error import S3Error\n",
    "import os\n",
    "import time\n",
    "from minio_util import get_minio_client, upload_batch_file, upload_json_files"
   ]
  },
  {
   "cell_type": "markdown",
   "id": "f4bbe7ce-2114-48f9-b29a-d2a92e17ca2b",
   "metadata": {},
   "source": [
    "## Initialize the MinIO client."
   ]
  },
  {
   "cell_type": "code",
   "execution_count": null,
   "id": "19324815-458e-47d4-a0ec-1c1d71f7aba6",
   "metadata": {},
   "outputs": [],
   "source": [
    "client = get_minio_client(endpoint=\"minio:9000\")"
   ]
  },
  {
   "cell_type": "markdown",
   "id": "6e48e7d1-b051-463d-8367-b7aed67011f1",
   "metadata": {},
   "source": [
    "## Upload a single CSV file."
   ]
  },
  {
   "cell_type": "code",
   "execution_count": null,
   "id": "6b8904b5-2819-4e7f-87cd-a62054ba5a48",
   "metadata": {},
   "outputs": [],
   "source": [
    "csv_source_file = \"../data/dummy_data.csv\"\n",
    "upload_batch_file(client, csv_source_file, \"python-batch-bucket\")"
   ]
  },
  {
   "cell_type": "markdown",
   "id": "ea778831-8107-4a1b-9ecb-f57777232cf3",
   "metadata": {},
   "source": [
    "## Upload all JSON batch files from a directory."
   ]
  },
  {
   "cell_type": "code",
   "execution_count": null,
   "id": "40f2ee4c-78b3-4329-bd4b-03b7e3d67550",
   "metadata": {},
   "outputs": [],
   "source": [
    "json_directory = \"../data/json_batches\"\n",
    "upload_json_files(client, json_directory, \"python-process-bucket\")"
   ]
  }
 ],
 "metadata": {
  "kernelspec": {
   "display_name": "Python 3 (ipykernel)",
   "language": "python",
   "name": "python3"
  },
  "language_info": {
   "codemirror_mode": {
    "name": "ipython",
    "version": 3
   },
   "file_extension": ".py",
   "mimetype": "text/x-python",
   "name": "python",
   "nbconvert_exporter": "python",
   "pygments_lexer": "ipython3",
   "version": "3.12.9"
  }
 },
 "nbformat": 4,
 "nbformat_minor": 5
}
